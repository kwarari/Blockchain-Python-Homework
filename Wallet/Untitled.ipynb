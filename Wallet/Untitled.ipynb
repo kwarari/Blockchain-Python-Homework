{
 "cells": [
  {
   "cell_type": "code",
   "execution_count": 1,
   "id": "supreme-tiger",
   "metadata": {},
   "outputs": [],
   "source": [
    "import subprocess\n",
    "import json\n",
    "from dotenv import load_dotenv\n",
    "import os\n",
    "\n",
    "from bit import Key, PrivateKey, PrivateKeyTestnet\n",
    "from bit.network import NetworkAPI\n",
    "\n",
    "from web3 import Web3\n",
    "\n",
    "from eth_account import Account"
   ]
  },
  {
   "cell_type": "code",
   "execution_count": 2,
   "id": "peripheral-lighter",
   "metadata": {},
   "outputs": [],
   "source": [
    "load_dotenv()\n",
    "from constants import *\n",
    "w3 = Web3(Web3.HTTPProvider(\"HTTP://127.0.0.1:7545\"))"
   ]
  },
  {
   "cell_type": "code",
   "execution_count": 3,
   "id": "based-emphasis",
   "metadata": {},
   "outputs": [
    {
     "name": "stdout",
     "output_type": "stream",
     "text": [
      "raccoon pattern volume heart idea beyond ivory frozen vanish spirit blood ancient club short parade\n"
     ]
    }
   ],
   "source": [
    "mnemonic = os.getenv('MNEMONIC')\n",
    "print(mnemonic)"
   ]
  },
  {
   "cell_type": "code",
   "execution_count": 4,
   "id": "latest-adoption",
   "metadata": {},
   "outputs": [],
   "source": [
    "def derive_wallets(phrase, coin, numderive):\n",
    "    command = f'php derive -g --mnemonic=\"{phrase}\" --numderive={numderive} --coin={coin} --format=jsonpretty'\n",
    "    p = subprocess.Popen(command,stdout=subprocess.PIPE,shell=True)\n",
    "    (output, err) = p.communicate()\n",
    "    return json.loads(output)"
   ]
  },
  {
   "cell_type": "code",
   "execution_count": 5,
   "id": "graphic-witch",
   "metadata": {},
   "outputs": [
    {
     "name": "stdout",
     "output_type": "stream",
     "text": [
      "{\n",
      "    \"btc-test\": [\n",
      "        {\n",
      "            \"address\": \"mu22pWKxQT7xPqqw2iiKNeqonHtDCDPajS\",\n",
      "            \"index\": 0,\n",
      "            \"path\": \"m/44'/1'/0'/0/0\",\n",
      "            \"privkey\": \"cP7m7idh46aPQUoPCKjbAMgd2TUNQb7Vwr6yB3fVQRzi8fpWoeT5\",\n",
      "            \"pubkey\": \"03772db5cf5d6c21fb34ba74f3aa2cc06c4b4b8edddcb162191f819e05df82407e\",\n",
      "            \"pubkeyhash\": \"941979b38940a144911e95aa7704ef6994ed5134\",\n",
      "            \"xprv\": \"tprv8jwx6Wnwhd5WxntpdWo6EtXSD6aVRMGaeZWuPG6Bpz2NoAn98pyymFa9xC2WiNvT33wAci985P6GcZFwfuQDppgTFs2UnfWuo4ecsNth3wp\",\n",
      "            \"xpub\": \"tpubDGdzEvqBqzmBrFvcXATgeJBYn86RagTVDs7gfn8VFFpmdf2umDoZwkC28MUTomEYU2wR3G1n38uMEvzZNVbyfSp4tNX9pwo6sSDUsq6Lscb\"\n",
      "        },\n",
      "        {\n",
      "            \"address\": \"mrKCmUZpJFjmeUwjNwniwPNaotaVWvGPdz\",\n",
      "            \"index\": 1,\n",
      "            \"path\": \"m/44'/1'/0'/0/1\",\n",
      "            \"privkey\": \"cNpzohfKkGU64zuZmUufRCnRdtGVBifF7NRTG9ce5yZFEWvuPwQk\",\n",
      "            \"pubkey\": \"020d31a11a55e55151183035e25e2848a11052c8413a110a57122ecc6128dbe47d\",\n",
      "            \"pubkeyhash\": \"7670792e248815d5e31f49c7fdff937b3ae9679b\",\n",
      "            \"xprv\": \"tprv8jwx6Wnwhd5X1FSu5retbkvXqdRnUXLTGFr8RwE8g2GCbFkggmYrrn3Gvnt5LoamEnmybi8TifS8rFgNR9JMqkSNM8d5HBEtSeTyE9PGfJK\",\n",
      "            \"xpub\": \"tpubDGdzEvqBqzmBtiUgyWKV1AaeQewidrXMqZSuiTGS6J4bRk1TKANT3Gf96ueQJzsE3ksTuWAtqgoK65TsDz8LFB5np8joCbQuVZ3tnmeGx9y\"\n",
      "        },\n",
      "        {\n",
      "            \"address\": \"n3763ZxCQVSnZHHxXMeY4fWUMWKRT8hq1B\",\n",
      "            \"index\": 2,\n",
      "            \"path\": \"m/44'/1'/0'/0/2\",\n",
      "            \"privkey\": \"cNghhzPibrPik1NspKnVvgxxhUuzVe9sEcm2Ucj3z3Ah22H8Uvd6\",\n",
      "            \"pubkey\": \"0303c2154dfae9d9d420d8cfc120a7d72b53d43e7650a6d62dc48672734535f3fa\",\n",
      "            \"pubkeyhash\": \"eccf40f5b569d4e4341ef7513eb47172861a3424\",\n",
      "            \"xprv\": \"tprv8jwx6Wnwhd5X3fhaewviB61177WqsPaR3CAo1H4LBp2MKGzyY6A5XxJbi6eNCxjbQ1M1BW5gHAaWsUrarwaCpUbEec89qQf4PJ6cnUsZMgB\",\n",
      "            \"xpub\": \"tpubDGdzEvqBqzmBw8jNYbbJaVf7g92n2imKcVmaHo6dc5pk9mFkAUyfiSvTtFKAKzNdZUiWMZZvg62XuVzQjZwPWyQrTCy2RQGjngokeDLrLsu\"\n",
      "        }\n",
      "    ],\n",
      "    \"eth\": [\n",
      "        {\n",
      "            \"address\": \"0x21E3C13737174662EA28e850484e0d72819a3D45\",\n",
      "            \"index\": 0,\n",
      "            \"path\": \"m/44'/60'/0'/0/0\",\n",
      "            \"privkey\": \"0xc2d1d1ff4848b87af4d0942ebfcb98e2942b1abe24552e97acde7d2107fca76b\",\n",
      "            \"pubkey\": \"03caa9e1f8ae231b6109e578d32dcb4e9f37da7c49fa486c0ed105135da827f650\",\n",
      "            \"pubkeyhash\": \"f44a18465e7e20c48a7543e3d5b1e92de5072571\",\n",
      "            \"xprv\": \"xprvA39b7zFMmvDnuK7zNqWM4yMZHuStN7NKqSQ9yXezLskke9mGWu4xD8t86XBzh1S8Q3B1BEHiwyJAic6ik6FMyf2Lr6bUVMde3eouvQ3qQc5\",\n",
      "            \"xpub\": \"xpub6G8wXVnFcHn67oCTUs3MS7JHqwHNma6BCfKkmv4buDHjWx6R4SPCkwCbwpDxg1QfAy3YojntQmUJ5w3zRph7Zpn9wjvbfZwD77FVR4dDpLF\"\n",
      "        },\n",
      "        {\n",
      "            \"address\": \"0xb85eef8aaEB5d0FF65efC2d865038CE3Ff90c125\",\n",
      "            \"index\": 1,\n",
      "            \"path\": \"m/44'/60'/0'/0/1\",\n",
      "            \"privkey\": \"0x17df5143f6db6c473c66ff6679dd12a4c78036c352b1b26ea11ff308523d70d0\",\n",
      "            \"pubkey\": \"02e2b846df2f0cf9126775bf95c474453fbdbad4f51a3b07f0d095a03bd5a723d5\",\n",
      "            \"pubkeyhash\": \"7203edcc874dfaaec3415c6fc1a133599f38b423\",\n",
      "            \"xprv\": \"xprvA39b7zFMmvDnxiBMGw6Z7KgmdUfBcCaSMVFmM7aYJVdsV7hFaWBcNdfd8r5efV5tBbyT8Si2qgT1jqXu2c8vBkbyCRtqZmAkVsZV2cPvEB5\",\n",
      "            \"xpub\": \"xpub6G8wXVnFcHn6BCFpNxdZUTdWBWVg1fJHiiBN9Vz9rqArMv2Q83VrvRz6z8ekaDNxYqpgKePoimKSyZaN1ja8NdcgJ2ZGK9oMnH8tH6DWYyf\"\n",
      "        },\n",
      "        {\n",
      "            \"address\": \"0x23231D4677d237819f2d3A634C15E6b708041Ab8\",\n",
      "            \"index\": 2,\n",
      "            \"path\": \"m/44'/60'/0'/0/2\",\n",
      "            \"privkey\": \"0x10708a400d2e734c57f974dcda340c403b26baf338191c26fbf967a915c1100b\",\n",
      "            \"pubkey\": \"0224a7b643221aa6bc091f9272d13504394acdb03dea3c18170de699bc8a9b39e5\",\n",
      "            \"pubkeyhash\": \"bfb72e0bdc54468e21b9f8f4273a344254f1528f\",\n",
      "            \"xprv\": \"xprvA39b7zFMmvDo1eNZaovQL2XFHf4GkBEjKTk7vyKyT84327MUrqWUfVbY3Tm3ukJCPQ4EroCtx6qxHLwHFAQ2N2Bf9FiFW9U7gkZAmFHvXVu\",\n",
      "            \"xpub\": \"xpub6G8wXVnFcHn6E8T2gqTQhATyqgtm9dxaggfijMjb1Tb1tugdQNpjDHv1tiwijKdXtED2itNzaZaxfY5jUF71z6eQ4mUDMSkcebHGiBS6eJJ\"\n",
      "        }\n",
      "    ]\n",
      "}\n"
     ]
    }
   ],
   "source": [
    " coins = {'eth':derive_wallets(phrase=mnemonic,coin=ETH,numderive=3),'btc-test': derive_wallets(phrase=mnemonic,coin=BTCTEST,numderive=3)}\n",
    "print(json.dumps(coins, indent=4, sort_keys=True))"
   ]
  },
  {
   "cell_type": "code",
   "execution_count": 6,
   "id": "thrown-massachusetts",
   "metadata": {},
   "outputs": [],
   "source": [
    "eth_key = coins['eth'][1]['privkey']\n",
    "btc_key = coins['btc-test'][0]['privkey']"
   ]
  },
  {
   "cell_type": "code",
   "execution_count": 7,
   "id": "weekly-revelation",
   "metadata": {},
   "outputs": [],
   "source": [
    "def priv_key_to_account(coin, priv_key):\n",
    "    global account\n",
    "    if coin == 'eth':\n",
    "        account=Account.privateKeyToAccount(priv_key)\n",
    "    else:\n",
    "        account=PrivateKeyTestnet(priv_key)\n",
    "    return account"
   ]
  },
  {
   "cell_type": "code",
   "execution_count": 8,
   "id": "incoming-dividend",
   "metadata": {},
   "outputs": [
    {
     "data": {
      "text/plain": [
       "<eth_account.signers.local.LocalAccount at 0x274f4812220>"
      ]
     },
     "execution_count": 8,
     "metadata": {},
     "output_type": "execute_result"
    }
   ],
   "source": [
    "priv_key_to_account(ETH,eth_key)"
   ]
  },
  {
   "cell_type": "code",
   "execution_count": 9,
   "id": "cathedral-converter",
   "metadata": {},
   "outputs": [
    {
     "data": {
      "text/plain": [
       "<PrivateKeyTestnet: mu22pWKxQT7xPqqw2iiKNeqonHtDCDPajS>"
      ]
     },
     "execution_count": 9,
     "metadata": {},
     "output_type": "execute_result"
    }
   ],
   "source": [
    "priv_key_to_account(BTCTEST,btc_key)"
   ]
  },
  {
   "cell_type": "code",
   "execution_count": 10,
   "id": "innocent-configuration",
   "metadata": {},
   "outputs": [],
   "source": [
    "def create_tx(coin,account,recipient,amount):\n",
    "    global tx_data\n",
    "    if coin =='eth':\n",
    "        gasEstimate = w3.eth.estimateGas(\n",
    "            {\"from\": account.address, \"to\": recipient, \"value\": amount}\n",
    "        )\n",
    "        tx_data= {\n",
    "            \"from\": account.address,\n",
    "            \"to\": recipient,\n",
    "            \"value\": amount,\n",
    "            \"gasPrice\": w3.eth.gasPrice,\n",
    "            \"gas\": gasEstimate,\n",
    "            \"nonce\": w3.eth.getTransactionCount(account.address),\n",
    "        }\n",
    "        return tx_data\n",
    "    else:\n",
    "        tx_data = PrivateKeyTestnet.prepare_transaction(account.address, [(recipient, amount, BTC)])\n",
    "        return tx_data"
   ]
  },
  {
   "cell_type": "code",
   "execution_count": 25,
   "id": "domestic-transaction",
   "metadata": {},
   "outputs": [],
   "source": [
    "create_tx(BTCTEST,account,'mrKCmUZpJFjmeUwjNwniwPNaotaVWvGPdz',0.0001)"
   ]
  },
  {
   "cell_type": "code",
   "execution_count": null,
   "id": "suited-drove",
   "metadata": {},
   "outputs": [],
   "source": [
    "create_tx(ETH,account,'0x21E3C13737174662EA28e850484e0d72819a3D45',0.0001)"
   ]
  },
  {
   "cell_type": "code",
   "execution_count": null,
   "id": "important-understanding",
   "metadata": {},
   "outputs": [],
   "source": [
    "def send_tx(coin, account, recipient, amount):\n",
    "    if coin == ETH:\n",
    "        tx = create_tx(coin,account, recipient, amount)\n",
    "        signed_tx = account.sign_transaction(tx)\n",
    "        result = w3.eth.sendRawTransaction(signed_tx.rawTransaction)\n",
    "        print(result.hex())\n",
    "        return result.hex()\n",
    "    else:\n",
    "        tx_data = create_tx(coin,account,recipient,amount)\n",
    "        signed = account.sign_transaction(tx_data)\n",
    "        NetworkAPI.broadcast_tx_testnet(signed)\n",
    "        return signed"
   ]
  },
  {
   "cell_type": "code",
   "execution_count": null,
   "id": "olive-temple",
   "metadata": {},
   "outputs": [],
   "source": [
    "send_tx(BTCTEST,account,'mu22pWKxQT7xPqqw2iiKNeqonHtDCDPajS',0.0001)"
   ]
  },
  {
   "cell_type": "code",
   "execution_count": null,
   "id": "worthy-treatment",
   "metadata": {},
   "outputs": [],
   "source": []
  },
  {
   "cell_type": "code",
   "execution_count": null,
   "id": "intellectual-heritage",
   "metadata": {},
   "outputs": [],
   "source": []
  }
 ],
 "metadata": {
  "kernelspec": {
   "display_name": "Python 3",
   "language": "python",
   "name": "python3"
  },
  "language_info": {
   "codemirror_mode": {
    "name": "ipython",
    "version": 3
   },
   "file_extension": ".py",
   "mimetype": "text/x-python",
   "name": "python",
   "nbconvert_exporter": "python",
   "pygments_lexer": "ipython3",
   "version": "3.8.5"
  }
 },
 "nbformat": 4,
 "nbformat_minor": 5
}
