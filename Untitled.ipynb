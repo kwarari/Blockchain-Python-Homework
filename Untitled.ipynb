{
 "cells": [
  {
   "cell_type": "code",
   "execution_count": 8,
   "id": "strategic-magic",
   "metadata": {},
   "outputs": [],
   "source": [
    "import subprocess\n",
    "import json\n",
    "from dotenv import load_dotenv\n",
    "import os\n",
    "\n",
    "from bit import Key, PrivateKey, PrivateKeyTestnet\n",
    "from bit.network import NetworkAPI\n",
    "\n",
    "from web3 import Web3\n",
    "\n",
    "from eth_account import Account"
   ]
  },
  {
   "cell_type": "code",
   "execution_count": 9,
   "id": "fossil-breeding",
   "metadata": {},
   "outputs": [],
   "source": [
    "load_dotenv()\n",
    "from constants import *\n",
    "w3 = Web3(Web3.HTTPProvider(\"HTTP://127.0.0.1:7545\"))"
   ]
  },
  {
   "cell_type": "code",
   "execution_count": 10,
   "id": "realistic-wesley",
   "metadata": {},
   "outputs": [
    {
     "name": "stdout",
     "output_type": "stream",
     "text": [
      "raccoon pattern volume heart MNEMONIC = idea beyond ivory frozen vanish spirit blood ancient club short parade\n"
     ]
    }
   ],
   "source": [
    "mnemonic = os.getenv('MNEMONIC')\n",
    "print(mnemonic)"
   ]
  },
  {
   "cell_type": "code",
   "execution_count": 11,
   "id": "associate-million",
   "metadata": {},
   "outputs": [],
   "source": [
    "def derive_wallets(phrase, coin, numderive):\n",
    "    command = f'php derive -g --mnemonic=\"{phrase}\" --numderive={numderive} --coin={coin} --format=jsonpretty'\n",
    "    p = subprocess.Popen(command,stdout=subprocess.PIPE,shell=True)\n",
    "    (output, err) = p.communicate()\n",
    "    return json.loads(output)"
   ]
  },
  {
   "cell_type": "code",
   "execution_count": 13,
   "id": "round-society",
   "metadata": {},
   "outputs": [
    {
     "name": "stdout",
     "output_type": "stream",
     "text": [
      "{\n",
      "    \"btc-test\": [\n",
      "        {\n",
      "            \"address\": \"mwpg6k4S2tkAueJhqnYBjneeQLQbJH7VyM\",\n",
      "            \"index\": 0,\n",
      "            \"path\": \"m/44'/1'/0'/0/0\",\n",
      "            \"privkey\": \"cW6inPnaSeBWkV8eq5Y4VhrKVRfA7wZhKQNYqXVE3kGQbyRNiQFc\",\n",
      "            \"pubkey\": \"03af271fe0c0ca7e0c61ef5e0871e31a142c59dd84cc7f09b31e272b20cf3197ea\",\n",
      "            \"pubkeyhash\": \"b2dbfb1e9cfc1878c396d5538cbcde43609a80d4\",\n",
      "            \"xprv\": \"tprv8jmR5iNpFECbSpp3GcKeUUKxk25Ak8UPk2cDy48XwLScftYkaPR2XP5tzYWyeBbdTVMNaip1HjndvNbsYzkQJE7FWQat7CTdAvaxgXJXoX1\",\n",
      "            \"xpub\": \"tpubDGTTE8R4PbtGLHqqAFzEssz5K3b6uTfJKLD1FaAqMcF1WNoXCnEchshmAgoq6dkQyQqofZSgbbYJKn7pi2Fpy9aRdnAGvQLe4CmExR2JTAQ\"\n",
      "        },\n",
      "        {\n",
      "            \"address\": \"mmBFPFQaT29ffeQcfPbovECVtXB1fXXztd\",\n",
      "            \"index\": 1,\n",
      "            \"path\": \"m/44'/1'/0'/0/1\",\n",
      "            \"privkey\": \"cNzZcaVo16PRFLAknVKaWScZtDdKWpR8YxSGXxG6Sb3RgVs2PvxG\",\n",
      "            \"pubkey\": \"02643dd99b49eec5df45c845c463eaac6a2d7a60a42563d3f5a7b6017eb8c37cad\",\n",
      "            \"pubkeyhash\": \"3e16b37cd0b663aa80a04a4e00e65cc899781d94\",\n",
      "            \"xprv\": \"tprv8jmR5iNpFECbVCLQXshtxrY7CMNGQHcUhksTSnyTKnXFQgL7oiv4kYeBwZRLAqkTY77pd5dyEKUKCD3j8U1d3iHzuyyVdcVhoUsbvfzm745\",\n",
      "            \"xpub\": \"tpubDGTTE8R4PbtGNfNCRXNVNGCDmNtCZcoPH4UEjK1kk4KeFAatS7jew3G47gopxXk9eERfZo8u1drQicyfS1ds1HbjConbdrfoCRckgKRGcTe\"\n",
      "        },\n",
      "        {\n",
      "            \"address\": \"muECZeQfui8HhuBvHjg2CCpLcDDARqMCEo\",\n",
      "            \"index\": 2,\n",
      "            \"path\": \"m/44'/1'/0'/0/2\",\n",
      "            \"privkey\": \"cNLRTsh9hZVdugEzAuA4M1uVbGeMXH6A8PL3fbSFtbRB3XMwu5Uh\",\n",
      "            \"pubkey\": \"02a8f4bb21bbd8e6cfb1b747044e513bfc318568cf520f098ce0f9f157d47899a6\",\n",
      "            \"pubkeyhash\": \"966699c35037078c35cf92969016f49955b54503\",\n",
      "            \"xprv\": \"tprv8jmR5iNpFECbYP2RVSZ1aRfBZm3d6YKQmhknsFJLG1TCAVbDvFkipZhTh7SucBYpDdhpt17xVUj1uF8Uw7GbWWggXsRX4NCpGdK1Abv6M1s\",\n",
      "            \"xpub\": \"tpubDGTTE8R4PbtGRr4DP6DbyqKJ8nZZFsWKM1Ma9mLdgHFazyqzYeaK14KKsFWJoU7ekVsEQxyyUkkU7E7U4XhjzZcmhb7WHDPG32jRoDw85vi\"\n",
      "        }\n",
      "    ],\n",
      "    \"eth\": [\n",
      "        {\n",
      "            \"address\": \"0x5970bb45452aAaea98eD87BC432c1629C22eFd2b\",\n",
      "            \"index\": 0,\n",
      "            \"path\": \"m/44'/60'/0'/0/0\",\n",
      "            \"privkey\": \"0x62645b67876fb3469e1f48c96073cde49e8ad608eee5a0d577fc302903e8a5da\",\n",
      "            \"pubkey\": \"03ef34dc4b7261ad73dac5a344ad279fa70ce86e51c9645128662321d3da782655\",\n",
      "            \"pubkeyhash\": \"8644a02a073364cdbea1e9cfa8142d290dd0a69d\",\n",
      "            \"xprv\": \"xprvA3Aiy9zczUK9w2mQtBckAJD2aQ1Ph9Ky2YPJuYVHF2U9jFmn4tBXpRE5vQU3XNkEHHJLMK8D1XkNvGa6Y7vRPPnyMsywXYSztEbgmTJJHEi\",\n",
      "            \"xpub\": \"xpub6GA5NfXWpqsT9WqszD9kXS9m8Rqt6c3pPmJuhvttoN18c46vcRVnNDYZmiWa4QYbfhnCVcRUKNZJtLa6jzKvSetSCszooN9KgBbXDtaXwRC\"\n",
      "        },\n",
      "        {\n",
      "            \"address\": \"0xE67481E515a95db4F74735042208f2684036fD31\",\n",
      "            \"index\": 1,\n",
      "            \"path\": \"m/44'/60'/0'/0/1\",\n",
      "            \"privkey\": \"0x9923b984a05a2a234d43317562db4ab568d653d579dbf8d7fa2125fc3257e4ea\",\n",
      "            \"pubkey\": \"02e83efa80971a622f5c4f7bafe8b0697de0fd03a5748253e87e2d96c517e3fe66\",\n",
      "            \"pubkeyhash\": \"c3f75486fe7c524c7213829b073e65dfdbe5722b\",\n",
      "            \"xprv\": \"xprvA3Aiy9zczUK9yPXXqYS6j6fwEkwTPr5kMLbSa6sj3ZKfbEgnXy32ozohypswcmYRNpHK9txbYdgJbSZKKCCDF91qj2wzokppFkEShc5A3ap\",\n",
      "            \"xpub\": \"xpub6GA5NfXWpqsTBsbzwZy76EcfnnmwoJobiZX3NVHLbtreU31w5WMHMo8Bq6WYjAwZN5Wh4navXTyL1t7H118uVfcJg2nhd5pdHRa1t7BB82C\"\n",
      "        },\n",
      "        {\n",
      "            \"address\": \"0x65FDA9B12c88CC8Fa64Af75cf5CeF2D6cAc8e801\",\n",
      "            \"index\": 2,\n",
      "            \"path\": \"m/44'/60'/0'/0/2\",\n",
      "            \"privkey\": \"0xdac24f04fe8ee955e8603c9316c34cfc6289fb34501033434a503a4734efd239\",\n",
      "            \"pubkey\": \"02ec0ab09989f9cb3a1537027c5d6550f2cc50173a2a08e0afaffa3b561102dc9e\",\n",
      "            \"pubkeyhash\": \"547789f6688ab2bce5ff4d36ee2ee16d29273c04\",\n",
      "            \"xprv\": \"xprvA3Aiy9zczUK9zSwwYfDTgcCY4Pzkucj6vz2bAcza7VTYo8JauRSNSHFhT1vqz84qcQvGLsHQxpfghzzfV6wJR4byB2CFdFHnuBuVdkHUuSd\",\n",
      "            \"xpub\": \"xpub6GA5NfXWpqsTCw2QegkU3k9GcRqFK5SxJCxBy1QBfpzXfvdjSxkcz5aBJH6DthFoWZqUCeTT3zgu76wUE7KFnmtup7uAtZQk1TNg1PWeoMT\"\n",
      "        }\n",
      "    ]\n",
      "}\n"
     ]
    }
   ],
   "source": [
    " coins = {'eth':derive_wallets(phrase=mnemonic,coin=ETH,numderive=3),'btc-test': derive_wallets(phrase=mnemonic,coin=BTCTEST,numderive=3)}\n",
    "print(json.dumps(coins, indent=4, sort_keys=True))"
   ]
  },
  {
   "cell_type": "code",
   "execution_count": null,
   "id": "framed-humanitarian",
   "metadata": {},
   "outputs": [],
   "source": []
  }
 ],
 "metadata": {
  "kernelspec": {
   "display_name": "Python 3",
   "language": "python",
   "name": "python3"
  },
  "language_info": {
   "codemirror_mode": {
    "name": "ipython",
    "version": 3
   },
   "file_extension": ".py",
   "mimetype": "text/x-python",
   "name": "python",
   "nbconvert_exporter": "python",
   "pygments_lexer": "ipython3",
   "version": "3.8.5"
  }
 },
 "nbformat": 4,
 "nbformat_minor": 5
}
